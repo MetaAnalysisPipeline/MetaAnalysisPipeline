{
 "cells": [
  {
   "cell_type": "code",
   "execution_count": 1,
   "metadata": {},
   "outputs": [
    {
     "name": "stderr",
     "output_type": "stream",
     "text": [
      "/Users/mark/anaconda3/lib/python3.7/site-packages/fuzzywuzzy/fuzz.py:11: UserWarning: Using slow pure-python SequenceMatcher. Install python-Levenshtein to remove this warning\n",
      "  warnings.warn('Using slow pure-python SequenceMatcher. Install python-Levenshtein to remove this warning')\n"
     ]
    }
   ],
   "source": [
    "import pandas as pd\n",
    "from sklearn.metrics import classification_report, accuracy_score, matthews_corrcoef\n",
    "from sklearn.model_selection import train_test_split\n",
    "from fuzzywuzzy import fuzz\n",
    "import os.path\n",
    "import sys"
   ]
  },
  {
   "cell_type": "code",
   "execution_count": 2,
   "metadata": {},
   "outputs": [],
   "source": [
    "def search_basic(text: str, key_terms: list) -> int:\n",
    "    text = text.lower()\n",
    "    found = 0\n",
    "    for i in key_terms:\n",
    "        if i.lower().replace(\"*\", \"\") in text:\n",
    "            found = 1\n",
    "    return found\n",
    "def levenstein(text: str, key_terms: list, cutoff: int= 90) -> int:\n",
    "    text = text.lower()\n",
    "    found = 0\n",
    "    for i in key_terms:\n",
    "        if fuzz.partial_ratio(i.lower().replace(\"*\", \"\"), text) > cutoff:\n",
    "            found = 1\n",
    "    return found"
   ]
  },
  {
   "cell_type": "code",
   "execution_count": 3,
   "metadata": {},
   "outputs": [
    {
     "name": "stdout",
     "output_type": "stream",
     "text": [
      "        Key  Publication.Year  \\\n",
      "0  225CCC2R            2010.0   \n",
      "1  2267DYLY            2000.0   \n",
      "2  2272VXWK            1998.0   \n",
      "3  229SFPIF            2017.0   \n",
      "4  22ACI86B            2001.0   \n",
      "\n",
      "                                              Author  \\\n",
      "0                   Beesley H.; Rhodes J.; Salmon P.   \n",
      "1                    Sidiropoulos, A.; Muthny, F. A.   \n",
      "2  Ehlers, C. L.; Garcia-Andrade, C.; Wall, T. L....   \n",
      "3  Modgil, Shweta; Cameotra, Swaranjit S.; Sharma...   \n",
      "4  Ito, K.; Olsen, S. L.; Qiu, W.; Deeley, R. G.;...   \n",
      "\n",
      "                                               Title  \\\n",
      "0  Anger and childhood sexual abuse are independe...   \n",
      "1  [Subjective theories of illness in the Greek c...   \n",
      "2  Determinants of P3 amplitude and response to a...   \n",
      "3  Early Life Pb Exposure and its Effect on Later...   \n",
      "4  Mutation of a single conserved tryptophan in m...   \n",
      "\n",
      "                                   Publication.Title  \\\n",
      "0               British journal of health psychology   \n",
      "1  Gesundheitswesen (Bundesverband der Arzte des ...   \n",
      "2                            Neuropsychopharmacology   \n",
      "3                   Journal of Cellular Biochemistry   \n",
      "4                    Journal of Biological Chemistry   \n",
      "\n",
      "                                                 Url  \\\n",
      "0  http://www.embase.com/search/results?subaction...   \n",
      "1                                                NaN   \n",
      "2                                                NaN   \n",
      "3                                                NaN   \n",
      "4                                                NaN   \n",
      "\n",
      "                                       Abstract.Note  Resilience  Stressors  \\\n",
      "0  OBJECTIVES: Irritable bowel syndrome (IBS) pre...           0          1   \n",
      "1  In this cross-sectional study, 100 Greeks were...           0          0   \n",
      "2  Native Americans have some of the highest rate...           0          1   \n",
      "3  The study presents the longitudinal effect of ...           0          1   \n",
      "4  Multidrug resistance protein 1 (MRP1/ABCC1) be...           0          1   \n",
      "\n",
      "   Biomarkers  Conditions  \n",
      "0           1           1  \n",
      "1           1           0  \n",
      "2           1           0  \n",
      "3           1           0  \n",
      "4           1           0  \n",
      "         PMID                                           Citation  Year  \\\n",
      "0  15821561.0  Penson DF, McLerran D, Feng Z, Li L, Albertsen...  2005   \n",
      "1  16672309.0  Freedman LS, Potischman N, Kipnis V, Midthune ...  2006   \n",
      "2  26448606.0  Lin CC, Mitra R, Cheng F, Zhao Z. A cross-canc...  2015   \n",
      "3  26176379.0  Blake KD, Kaufman AR, Lorenzo J, Augustson EM....  2015   \n",
      "4  23910630.0  Eggly S, Barton E, Winckles A, Penner LA, Albr...  2015   \n",
      "\n",
      "                                               Title  \\\n",
      "0  5-year urinary and sexual outcomes after radic...   \n",
      "1  A comparison of two dietary instruments for ev...   \n",
      "2  A cross-cancer differential co-expression netw...   \n",
      "3  A descriptive study of television news coverag...   \n",
      "4  A disparity of words: racial differences in on...   \n",
      "\n",
      "                                       Abstract.Note  \\\n",
      "0  PURPOSE: Prior studies of postoperative outcom...   \n",
      "1  BACKGROUND: Previous research suggests food di...   \n",
      "2  MicroRNAs (miRNAs) are small non-coding RNAs t...   \n",
      "3  There is a positive correlation between recall...   \n",
      "4  BACKGROUND: African Americans are consistently...   \n",
      "\n",
      "                             Author Type  \\\n",
      "0  NCI Researcher, Extramural Researcher   \n",
      "1  NCI Researcher, Extramural Researcher   \n",
      "2  NCI Researcher, Extramural Researcher   \n",
      "3  NCI Researcher, Extramural Researcher   \n",
      "4  NCI Researcher, Extramural Researcher   \n",
      "\n",
      "                                         Cancer Site  \\\n",
      "0                                                NaN   \n",
      "1                                                NaN   \n",
      "2  Stomach, Ovary, Prostate, Digestive Organs, Fe...   \n",
      "3                                                NaN   \n",
      "4                                                NaN   \n",
      "\n",
      "                                       DCCPS Program  \\\n",
      "0  Health Services and Economics Branch, Surveill...   \n",
      "1  Statistical Research and Applications, Surveil...   \n",
      "2         Epidemiology and Genomics Research Program   \n",
      "3                        Behavioral Research Program   \n",
      "4                        Behavioral Research Program   \n",
      "\n",
      "                                                 URL  Resilience  Biomarkers  \\\n",
      "0  http://www.ncbi.nlm.nih.gov/pubmed?Db=PubMed&C...           0           1   \n",
      "1  http://www.ncbi.nlm.nih.gov/pubmed?Db=PubMed&C...           0           0   \n",
      "2  http://www.ncbi.nlm.nih.gov/pubmed?Db=PubMed&C...           0           1   \n",
      "3  http://www.ncbi.nlm.nih.gov/pubmed?Db=PubMed&C...           0           0   \n",
      "4  http://www.ncbi.nlm.nih.gov/pubmed?Db=PubMed&C...           0           0   \n",
      "\n",
      "   Conditions  Stressors  \n",
      "0           0          0  \n",
      "1           1          0  \n",
      "2           0          0  \n",
      "3           0          0  \n",
      "4           0          0  \n"
     ]
    }
   ],
   "source": [
    "\n",
    "key_terms_resilience = [line.replace(\"\\n\", \"\") for line in open(sys.path[0]+\"/datasets/key_terms/resilience_final.txt\")]\n",
    "key_terms_biomarkers = [line.replace(\"\\n\", \"\") for line in open(sys.path[0]+\"/datasets/key_terms/biomarkers+disease_final.txt\")]\n",
    "key_terms_stressors = [line.replace(\"\\n\", \"\") for line in open(sys.path[0]+\"/datasets/key_terms/stressors_final_removed_ed.txt\")]\n",
    "key_terms_conditions = [line.replace(\"\\n\", \"\") for line in open(sys.path[0]+\"/datasets/key_terms/conditions_final.txt\")]\n",
    "\n",
    "master_sheet = pd.read_csv(sys.path[0]+\"/datasets/train_test.csv\")\n",
    "cancer_sheet= pd.read_csv(sys.path[0]+\"/datasets/validation.csv\")\n",
    "print(master_sheet.head())\n",
    "print(cancer_sheet.head())"
   ]
  },
  {
   "cell_type": "code",
   "execution_count": 4,
   "metadata": {},
   "outputs": [],
   "source": [
    "def construct_report(df: object, df_name: str,topic_name: str, key_terms: list):\n",
    "    print(df_name, topic_name, \"Basic Search\")\n",
    "    pred_basic = [search_basic(text=abstract, key_terms=key_terms) for abstract in list(df[\"Abstract.Note\"])]\n",
    "    print(\"Accuracy\", accuracy_score(y_true=list(df[topic_name]), y_pred=pred_basic))\n",
    "    print(\"MM\", matthews_corrcoef(y_true=list(df[topic_name]), y_pred=pred_basic))\n",
    "    print(classification_report(y_true=list(df[topic_name]), y_pred=pred_basic))\n",
    "    \n",
    "    print(df_name, topic_name, \"Fuzzy Search\")\n",
    "    pred_lev = [levenstein(text=abstract, key_terms=key_terms) for abstract in list(df[\"Abstract.Note\"])]\n",
    "    print(\"Accuracy\", accuracy_score(y_true=list(df[topic_name]), y_pred=pred_lev))\n",
    "    print(\"MM\", matthews_corrcoef(y_true=list(df[topic_name]), y_pred=pred_lev))\n",
    "    print(classification_report(y_true=list(df[topic_name]), y_pred=pred_lev))\n"
   ]
  },
  {
   "cell_type": "code",
   "execution_count": null,
   "metadata": {},
   "outputs": [
    {
     "name": "stdout",
     "output_type": "stream",
     "text": [
      "master_sheet Resilience Basic Search\n",
      "Accuracy 0.3812423873325213\n",
      "MM 0.11057416666891337\n",
      "              precision    recall  f1-score   support\n",
      "\n",
      "           0       0.84      0.13      0.22       567\n",
      "           1       0.33      0.94      0.49       254\n",
      "\n",
      "   micro avg       0.38      0.38      0.38       821\n",
      "   macro avg       0.58      0.54      0.35       821\n",
      "weighted avg       0.68      0.38      0.30       821\n",
      "\n",
      "master_sheet Resilience Fuzzy Search\n"
     ]
    }
   ],
   "source": [
    "df_dict = {\"master_sheet\":master_sheet, \"cancer_sheet\":cancer_sheet}\n",
    "terms ={\"Resilience\":key_terms_resilience, \"Biomarkers\":key_terms_biomarkers, \"Conditions\":key_terms_conditions, \"Stressors\":key_terms_stressors}\n",
    "for i in df_dict.keys():\n",
    "    for j in terms.keys():\n",
    "        if i == \"master_sheet\":\n",
    "            train, test_df = train_test_split(df_dict[i],random_state=42, test_size=0.1)\n",
    "            construct_report(df=test_df, df_name=i, topic_name=j, key_terms=terms[j])\n",
    "        else:\n",
    "            construct_report(df=df_dict[i], df_name=i, topic_name=j, key_terms=terms[j])"
   ]
  },
  {
   "cell_type": "code",
   "execution_count": null,
   "metadata": {},
   "outputs": [],
   "source": []
  }
 ],
 "metadata": {
  "kernelspec": {
   "display_name": "Python 3",
   "language": "python",
   "name": "python3"
  },
  "language_info": {
   "codemirror_mode": {
    "name": "ipython",
    "version": 3
   },
   "file_extension": ".py",
   "mimetype": "text/x-python",
   "name": "python",
   "nbconvert_exporter": "python",
   "pygments_lexer": "ipython3",
   "version": "3.7.3"
  }
 },
 "nbformat": 4,
 "nbformat_minor": 4
}
